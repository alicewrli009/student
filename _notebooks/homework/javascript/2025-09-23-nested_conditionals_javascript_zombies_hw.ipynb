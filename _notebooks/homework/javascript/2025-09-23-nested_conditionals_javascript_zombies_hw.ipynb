{
 "cells": [
  {
   "cell_type": "raw",
   "id": "859de763",
   "metadata": {
    "vscode": {
     "languageId": "raw"
    }
   },
   "source": [
    "---\n",
    "layout: post\n",
    "title: Conditionals in Javascript by Ctrl-Zombies\n",
    "description: Conditionals homework in Javascript\n",
    "permalink: /javascript/nested_conditionals/zombies/hw\n",
    "Author: Aneesh Deevi, Moiz Lukmani, Perry Say\n",
    "---"
   ]
  },
  {
   "cell_type": "markdown",
   "id": "eee8a8e6",
   "metadata": {},
   "source": [
    "# Nested Conditionals Javascript Homework"
   ]
  },
  {
   "cell_type": "markdown",
   "id": "ed97f2dd",
   "metadata": {},
   "source": [
    "## Practice Problems:"
   ]
  },
  {
   "cell_type": "markdown",
   "id": "c335a5d9",
   "metadata": {},
   "source": [
    "## Problem 1: Age and Movie Rating\n",
    "Write a program that asks for a person's age. If they are **under 13**, print *\"You can watch G or PG movies.\"* \n",
    "- If they are **13–17**, print *\"You can watch PG-13 movies.\"* \n",
    "- If they are **18 or older**, print *\"You can watch R-rated movies.\"*"
   ]
  },
  {
   "cell_type": "code",
   "execution_count": 1,
   "id": "4a19f878",
   "metadata": {
    "vscode": {
     "languageId": "javascript"
    }
   },
   "outputs": [
    {
     "name": "stdout",
     "output_type": "stream",
     "text": [
      "You can watch G or PG movies\n"
     ]
    }
   ],
   "source": [
    "age = int(input(\"Enter age:\"))\n",
    "\n",
    "if age < 13:\n",
    "    print(\"You can watch G or PG movies\")\n",
    "elif age < 18:\n",
    "    print(\"You can watch PG-13 movies\")\n",
    "else:\n",
    "    print(\"You can watch R-rated movies\")"
   ]
  },
  {
   "cell_type": "markdown",
   "id": "35f58f57",
   "metadata": {},
   "source": [
    "## Problem 2: Grade Categorizer\n",
    "Ask the user for a grade percentage (0–100).\n",
    "- If the grade is 90 or higher, log \"A\".\n",
    "- Else if it is 80–89, log \"B\".\n",
    "- Else if it is 70–79, log \"C\".\n",
    "- Else if it is 60–69, log \"D\".\n",
    "- Otherwise, log \"F\""
   ]
  },
  {
   "cell_type": "code",
   "execution_count": 7,
   "id": "1e900dfd",
   "metadata": {
    "vscode": {
     "languageId": "javascript"
    }
   },
   "outputs": [
    {
     "data": {
      "application/javascript": "let grade = parseInt(prompt(\"Enter grade percentage:\"));\n\nif (grade >= 90) {\n  console.log(\"A\");\n} else {\n  if (grade >= 80) {\n    console.log(\"B\");\n  } else {\n    if (grade >= 70) {\n      console.log(\"C\");\n    } else {\n      if (grade >= 60) {\n        console.log(\"D\");\n      } else {\n        console.log(\"F\");\n      }\n    }\n  }\n}\n",
      "text/plain": [
       "<IPython.core.display.Javascript object>"
      ]
     },
     "metadata": {},
     "output_type": "display_data"
    }
   ],
   "source": [
    "%%js\n",
    "let grade = parseInt(prompt(\"Enter grade percentage:\"));\n",
    "\n",
    "if (grade >= 90) {\n",
    "  console.log(\"A\");\n",
    "} else {\n",
    "  if (grade >= 80) {\n",
    "    console.log(\"B\");\n",
    "  } else {\n",
    "    if (grade >= 70) {\n",
    "      console.log(\"C\");\n",
    "    } else {\n",
    "      if (grade >= 60) {\n",
    "        console.log(\"D\");\n",
    "      } else {\n",
    "        console.log(\"F\");\n",
    "      }\n",
    "    }\n",
    "  }\n",
    "}"
   ]
  }
 ],
 "metadata": {
  "kernelspec": {
   "display_name": ".venv",
   "language": "python",
   "name": "python3"
  },
  "language_info": {
   "codemirror_mode": {
    "name": "ipython",
    "version": 3
   },
   "file_extension": ".py",
   "mimetype": "text/x-python",
   "name": "python",
   "nbconvert_exporter": "python",
   "pygments_lexer": "ipython3",
   "version": "3.13.7"
  }
 },
 "nbformat": 4,
 "nbformat_minor": 5
}
