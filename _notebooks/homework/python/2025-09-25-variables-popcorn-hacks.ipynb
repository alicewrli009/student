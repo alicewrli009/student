{
 "cells": [
  {
   "cell_type": "markdown",
   "id": "b0358d15",
   "metadata": {},
   "source": [
    "## Alice's Popcorn Hacks"
   ]
  },
  {
   "cell_type": "code",
   "execution_count": 1,
   "id": "48d61d6d",
   "metadata": {},
   "outputs": [
    {
     "name": "stdout",
     "output_type": "stream",
     "text": [
      "The snake is 4 inches long and it's red.\n"
     ]
    }
   ],
   "source": [
    "# Finish the code \n",
    "# Example: snakeSize = 10\n",
    "snakeSize = 4   # <-- Add the size of the snake\n",
    "snakeColor = \"red\"   # <-- Add the color of the snake\n",
    "\n",
    "# Print greeting\n",
    "print(\"The snake is \" + str(snakeSize) + \" inches long and it's \" + snakeColor + \".\")\n"
   ]
  },
  {
   "cell_type": "code",
   "execution_count": 3,
   "id": "896723b9",
   "metadata": {},
   "outputs": [
    {
     "name": "stdout",
     "output_type": "stream",
     "text": [
      "You win!\n"
     ]
    }
   ],
   "source": [
    "# # Finish the code \n",
    "# Define the win/lose messages first\n",
    "messageWin = \"You win!\" # <-- Change this to \"You win!\"\n",
    "messageLose = \"You lose!\" # <-- Change this to \"You lose!\"\n",
    "\n",
    "# Choose outcome\n",
    "winOrLose = \"win\"  # <-- Change this to either \"win\" or \"lose\"\n",
    "\n",
    "# Print result\n",
    "if winOrLose == \"win\":\n",
    "    print(messageWin)\n",
    "else:\n",
    "    print(messageLose)\n"
   ]
  }
 ],
 "metadata": {
  "kernelspec": {
   "display_name": ".venv",
   "language": "python",
   "name": "python3"
  },
  "language_info": {
   "codemirror_mode": {
    "name": "ipython",
    "version": 3
   },
   "file_extension": ".py",
   "mimetype": "text/x-python",
   "name": "python",
   "nbconvert_exporter": "python",
   "pygments_lexer": "ipython3",
   "version": "3.13.7"
  }
 },
 "nbformat": 4,
 "nbformat_minor": 5
}
