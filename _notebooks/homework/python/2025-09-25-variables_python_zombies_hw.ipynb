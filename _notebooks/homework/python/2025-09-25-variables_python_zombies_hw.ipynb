{
 "cells": [
  {
   "cell_type": "raw",
   "id": "6d62ad69",
   "metadata": {
    "vscode": {
     "languageId": "raw"
    }
   },
   "source": [
    "---\n",
    "layout: post\n",
    "title: Variables & Assignments\n",
    "description: This page will provide homework for the variables and assigmnets lesson.\n",
    "permalink: /python/variables/zombies/hw\n",
    "breadcrumb: True\n",
    "Author: Ethan Patel, Tanay Paranjpe, Neil Manjrekar\n",
    "---"
   ]
  },
  {
   "cell_type": "markdown",
   "id": "2b9da6aa",
   "metadata": {},
   "source": [
    "## Variables & Assignment Homework\n",
    "---\n",
    "Description:\n",
    "- In this homework hack, you will practice creating and using variables. You’ll define variables to store your name and age, reassign values, and answer interactive questions to test your understanding. This activity will help you master the basics of variables and how they work in programming."
   ]
  },
  {
   "cell_type": "markdown",
   "id": "352d458b",
   "metadata": {
    "vscode": {
     "languageId": "plaintext"
    }
   },
   "source": [
    "# 🏠 Variables Quest Homework\n",
    "\n",
    "**Objective:** Practice creating, manipulating, and combining strings in Python.\n",
    "\n",
    "---\n",
    "\n",
    "## Instructions\n",
    "\n",
    "Complete each challenge by **filling in the missing code**. Use the examples as a guide, but make sure to write your own values or logic.\n"
   ]
  },
  {
   "cell_type": "markdown",
   "id": "39715e07",
   "metadata": {
    "vscode": {
     "languageId": "raw"
    }
   },
   "source": [
    "## Challenge 1: Creating a Life Profile with Variables"
   ]
  },
  {
   "cell_type": "code",
   "execution_count": 17,
   "id": "35609373",
   "metadata": {},
   "outputs": [
    {
     "name": "stdout",
     "output_type": "stream",
     "text": [
      "Name: Alice\n",
      "Age: 16\n",
      "City: San Francisco\n",
      "Favorite color: navy blue\n",
      "Favorite food: ramen\n",
      "Favorite movie: 10 Things I Hate About You\n",
      "Favorite song: my tears ricochet\n",
      "Has pet? False\n"
     ]
    }
   ],
   "source": [
    "# Part 1\n",
    "## Personal info\n",
    "my_name = \"Alice\"           # Fill in your name\n",
    "my_age = 16            # Fill in your age\n",
    "my_city = \"San Diego\"           # Fill in the city where you live\n",
    "\n",
    "# Part 2\n",
    "## Preferences\n",
    "favorite_color = \"navy blue\"   # Your favorite color\n",
    "favorite_food = \"pasta\"     # Your favorite food\n",
    "favorite_movie = \"10 Things I Hate About You\"   # Your favorite movie\n",
    "favorite_song = \"my tears ricochet\"    # Your favorite song\n",
    "\n",
    "# Part 3\n",
    "# Reassign some variables\n",
    "favorite_food = \"ramen\"\n",
    "my_city = \"San Francisco\"\n",
    "has_pet = False\n",
    "\n",
    "# Part 5: Print Your Life Profile\n",
    "\n",
    "print(\"Name:\", my_name)\n",
    "print(\"Age:\", my_age)\n",
    "print(\"City:\", my_city)\n",
    "print(\"Favorite color:\", favorite_color)\n",
    "print(\"Favorite food:\", favorite_food)\n",
    "print(\"Favorite movie:\", favorite_movie)\n",
    "print(\"Favorite song:\", favorite_song)\n",
    "print(\"Has pet?\", has_pet)\n",
    "\n",
    "\n"
   ]
  },
  {
   "cell_type": "markdown",
   "id": "748cd3e2",
   "metadata": {},
   "source": [
    "# Task 2 "
   ]
  },
  {
   "cell_type": "markdown",
   "id": "a775e8cf",
   "metadata": {
    "vscode": {
     "languageId": "html"
    }
   },
   "source": [
    "## Creative Challenge \n",
    "\n",
    "Your task: Create a “story” or “profile” using **ONLY variables and assignments**.  \n",
    "\n",
    "\n",
    "### Instructions:\n",
    "\n",
    "1. **Create at least 8 variables** to describe a character or yourself.  \n",
    "   Examples:  \n",
    "   `name`, `age`, `favorite_food`, `hobby`, `number_of_pets`, `mood`, `favorite_color`, `dream_job`\n",
    "\n",
    "2. **Assign initial values** to all variables.\n",
    "\n",
    "3. **Reassign at least 4 of the variables** to new values to simulate changes over time or “events” in the story.\n",
    "\n",
    "4. Use **print statements** to write a story or profile that is **at least 5 sentences long**.  \n",
    "   Each sentence should include at least one variable.  \n",
    "   Example:  \n",
    "   > \"Tanay ('age' 17) loves pizza and plays tennis ('hobby') every weekend. Today, Tanay is happy because he ate his ('favoirite_food').\"\n",
    "\n",
    "5. Optional: Add **extra variables** to make your story longer and more creative.  \n",
    "   You can also create “day 2”, “day 3”, etc., by reassigning variables and printing new sentences.\n",
    "\n",
    "### Goal:\n",
    "\n",
    "- Show creativity while practicing:  \n",
    "  - Variable creation  \n",
    "  - Variable reassignment  \n",
    "  - Using variables in print statements\n",
    "  - Experiment with assigment and reassigment to update variables \n"
   ]
  },
  {
   "cell_type": "code",
   "execution_count": 1,
   "id": "df0c2ed1",
   "metadata": {},
   "outputs": [
    {
     "name": "stdout",
     "output_type": "stream",
     "text": [
      "Alice Li is 16 years old and loves eating pasta.\n",
      "She enjoys hanging out with friends in her free time and owns 0 pets.\n",
      "Today she is feeling happy while wearing her navy blue .\n",
      "One day, Alice Li wants to become a software engineer.\n",
      "Life is good!\n",
      "It is the next year.\n",
      "Alice Li is now 17 and her favorite food has changed to sushi.\n",
      "She picked up a new hobby: cheer.\n",
      "After a long day of: cheer she feels tired.\n",
      "But she still wants to be a software engineer.\n"
     ]
    }
   ],
   "source": [
    "\n",
    "name = \"Alice Li\"\n",
    "age = 16\n",
    "favorite_food = \"pasta\"\n",
    "hobby = \"hanging out with friends\"\n",
    "number_of_pets = 0\n",
    "mood = \"happy\"\n",
    "favorite_color = \"navy blue\"\n",
    "dream_job = \"software engineer\"\n",
    "\n",
    "print(name, \"is\", age, \"years old and loves eating\", favorite_food + \".\")\n",
    "print(\"She enjoys\", hobby, \"in her free time and owns\", number_of_pets, \"pets.\")\n",
    "print(\"Today she is feeling\", mood, \"while wearing her\", favorite_color, \".\")\n",
    "print(\"One day,\", name, \"wants to become a\", dream_job + \".\")\n",
    "print(\"Life is good!\")\n",
    "\n",
    "age = 17\n",
    "favorite_food = \"sushi\"\n",
    "hobby = \"cheer\"\n",
    "mood = \"tired\"\n",
    "\n",
    "print(\"It is the next year.\")\n",
    "print(name, \"is now\", age, \"and her favorite food has changed to\", favorite_food + \".\")\n",
    "print(\"She picked up a new hobby:\", hobby + \".\")\n",
    "print(\"After a long day of:\", hobby , \"she feels\", mood + \".\")\n",
    "print(\"But she still wants to be a\", dream_job + \".\")\n"
   ]
  }
 ],
 "metadata": {
  "kernelspec": {
   "display_name": ".venv",
   "language": "python",
   "name": "python3"
  },
  "language_info": {
   "codemirror_mode": {
    "name": "ipython",
    "version": 3
   },
   "file_extension": ".py",
   "mimetype": "text/x-python",
   "name": "python",
   "nbconvert_exporter": "python",
   "pygments_lexer": "ipython3",
   "version": "3.13.7"
  }
 },
 "nbformat": 4,
 "nbformat_minor": 5
}
