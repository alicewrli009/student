{
 "cells": [
  {
   "cell_type": "raw",
   "metadata": {
    "vscode": {
     "languageId": "raw"
    }
   },
   "source": [
    "---\n",
    "title: Alice's Blog\n",
    "comments: true\n",
    "layout: post\n",
    "permalink: /blog\n",
    "description: Alice's progress from week 1 to week 4, including GitHub basics, creating an About Me page, cloning repositories, copying files between repositories, working with Jupyter Notebooks, and changing the website background.\n",
    "author: Alice Li\n",
    "---\n"
   ]
  },
  {
   "cell_type": "markdown",
   "metadata": {},
   "source": [
    "# Terminal Commands\n",
    "Here are some basic terminal commands I have learned:\n",
    "\n",
    "- `ls`  \n",
    "  Lists all files and directories in the current folder.\n",
    "\n",
    "- `cd <directory>`  \n",
    "  Changes the current directory to the specified `<directory>`.\n",
    "\n",
    "- `mkdir <directory>`  \n",
    "  Creates a new directory with the given name.\n",
    "\n",
    "- `code .`  \n",
    "  Opens the current directory in **Visual Studio Code**.\n",
    "\n",
    "- `source venv/bin/activate`  \n",
    "  Activates the Python virtual environment located in `venv`."
   ]
  },
  {
   "cell_type": "markdown",
   "metadata": {},
   "source": [
    "### GitHub Codes\n",
    "We practiced using Git and GitHub to collaborate on code:\n",
    "\n",
    "- Clone repositories: `git clone`  \n",
    "- Get updates from the remote: `git pull`  \n",
    "- Save local work: `git commit`  \n",
    "- Share changes to GitHub: `git push`  "
   ]
  },
  {
   "cell_type": "markdown",
   "metadata": {},
   "source": [
    "## Progress: Weeks 1-4\n",
    "\n",
    "### About Me Page\n",
    "- Created an **About Me** page in the `about.md` file.\n",
    "### Cloning Repositories\n",
    "- Cloned the **pages** repository from Open Coding.  \n",
    "- Set up a **personal repository**.  \n",
    "- Cloned the **team repository** using `git clone`.\n",
    "### Copying Files Between Repositories\n",
    "- Learned how to transfer files between repositories.  \n",
    "- Example: Moved `2025-09-03-background-lesson.ipy` from the **pages** repo to the **personal** repo.\n",
    "### Jupyter Notebooks & Jokes\n",
    "- Opened and ran Jupyter Notebooks in **VS Code**.  \n",
    "- Practiced with the `Jokes.ipynb` notebook and converted results to **HTML format**.  \n",
    "### Changing Background\n",
    "- Edited the `background.md` file to update the website background to a beach setting.  \n",
    "- Modified the **front matter** to change the background image to a bird on the site."
   ]
  }
 ],
 "metadata": {
  "language_info": {
   "name": "python"
  }
 },
 "nbformat": 4,
 "nbformat_minor": 2
}
