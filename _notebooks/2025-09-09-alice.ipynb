{
 "cells": [
  {
   "cell_type": "raw",
   "metadata": {
    "vscode": {
     "languageId": "raw"
    }
   },
   "source": [
    "---\n",
    "title: Alice's Blog\n",
    "comments: true\n",
    "layout: post\n",
    "permalink: /blog\n",
    "description: Alice's progress from week 1 to week 4, including GitHub basics, creating an About Me page, cloning repositories, copying files between repositories, working with Jupyter Notebooks, and changing the website background.\n",
    "author: Alice Li\n",
    "---\n"
   ]
  },
  {
   "cell_type": "markdown",
   "metadata": {},
   "source": [
    "# 🚀 Terminal Commands\n",
    "Here are some basic terminal commands I have learned:\n",
    "\n",
    "- `ls` 📂  \n",
    "  Lists all files and directories in the current folder.\n",
    "\n",
    "- `cd <directory>` 📁  \n",
    "  Changes the current directory to the specified `<directory>`.\n",
    "\n",
    "- `mkdir <directory>` 🛠️  \n",
    "  Creates a new directory with the given name.\n",
    "\n",
    "- `code .` 💻  \n",
    "  Opens the current directory in **Visual Studio Code**.\n",
    "\n",
    "- `source venv/bin/activate` 🐍  \n",
    "  Activates the Python virtual environment located in `venv`."
   ]
  },
  {
   "cell_type": "markdown",
   "metadata": {},
   "source": [
    "# 🌐 GitHub Basics\n",
    "We practiced using Git and GitHub to collaborate on code:\n",
    "\n",
    "- Clone repositories: `git clone` 📥  \n",
    "- Get updates from the remote: `git pull` 🔄  \n",
    "- Save local work: `git commit` 💾  \n",
    "- Share changes to GitHub: `git push` 📤  \n",
    "\n",
    "I also learned how to **pull updates in a collaborative repository**, which helped me understand teamwork in coding better. 🤝"
   ]
  },
  {
   "cell_type": "markdown",
   "metadata": {},
   "source": [
    "# 📅 Progress: Weeks 1-4\n",
    "\n",
    "### 👩‍💻 About Me Page\n",
    "- Created an **About Me** page in the `about.md` file.  \n",
    "\n",
    "### 🗂️ Cloning Repositories\n",
    "- Cloned the **pages** repository from Open Coding.  \n",
    "- Set up a **personal repository**.  \n",
    "- Cloned the **team repository** using `git clone`.\n",
    "\n",
    "### 🔄 Copying Files Between Repositories\n",
    "- Learned how to transfer files between repositories.  \n",
    "- Example: Moved `2025-09-03-background-lesson.ipy` from the **pages** repo to the **personal** repo.\n",
    "\n",
    "### 📒 Jupyter Notebooks & Jokes\n",
    "- Opened and ran Jupyter Notebooks in **VS Code**.  \n",
    "- Practiced with the `Jokes.ipynb` notebook and converted results to **HTML format**.\n",
    "\n",
    "### 🌴 Changing Background\n",
    "- Edited the `background.md` file to update the website background to a beach setting.  \n",
    "- Modified the **front matter** to change the background image to a bird on the site.\n",
    "\n",
    "### 💻 JavaScript Fun\n",
    "- Learned about **JavaScript** and how to code a **Rock, Paper, Scissors game** 🎮 that you play directly in the console.  \n",
    "- This was a fun way to practice coding logic and interactivity!\n",
    "\n",
    "### 🗣️ Communication Skills\n",
    "- Improved my ability to **communicate better** in team projects and code collaboration.  \n",
    "- Learned the importance of clear messages when pulling, pushing, and reviewing code. 💬"
   ]
  },
  {
   "cell_type": "markdown",
   "metadata": {},
   "source": [
    "# ✨ Reflection\n",
    "These weeks have been full of learning and hands-on practice. From terminal commands 🖥️ to GitHub collaboration 🤝, Jupyter Notebook experiments 📒, and even fun JavaScript games 🎮, I’ve learned a lot about coding, teamwork, and problem-solving.  \n",
    "\n",
    "I’m excited to continue improving and exploring more ways to make my projects interactive and polished! 🌟"
   ]
  }
 ],
 "metadata": {
  "language_info": {
   "name": "python"
  }
 },
 "nbformat": 4,
 "nbformat_minor": 2
}
