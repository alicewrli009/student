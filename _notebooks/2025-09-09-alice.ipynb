{
 "cells": [
  {
   "cell_type": "raw",
   "metadata": {
    "vscode": {
     "languageId": "raw"
    }
   },
   "source": [
    "---\n",
    "title: Alice's Blog\n",
    "comments: true\n",
    "layout: post\n",
    "permalink: /blog\n",
    "description: Alice's progress from week 1 to week 4, including GitHub basics, creating an About Me page, cloning repositories, copying files between repositories, working with Jupyter Notebooks, and changing the website background.\n",
    "author: Alice Li\n",
    "---\n"
   ]
  },
  {
   "cell_type": "markdown",
   "metadata": {},
   "source": [
    "## 🚀 Terminal Commands\n",
    "\n",
    "Here are some basic terminal commands I have learned:\n",
    "\n",
    "- `ls` 📂  \n",
    "  Lists all files and directories in the current folder.\n",
    "\n",
    "- `cd <directory>` 📁  \n",
    "  Changes the current directory to the specified `<directory>`.\n",
    "\n",
    "- `mkdir <directory>` 🛠️  \n",
    "  Creates a new directory with the given name.\n",
    "\n",
    "- `code .` 💻  \n",
    "  Opens the current directory in **Visual Studio Code**.\n",
    "\n",
    "- `source venv/bin/activate` 🐍  \n",
    "  Activates the Python virtual environment located in `venv`."
   ]
  },
  {
   "cell_type": "markdown",
   "metadata": {},
   "source": [
    "## 🌐 GitHub Basics\n",
    "\n",
    "We practiced using Git and GitHub to collaborate on code:\n",
    "\n",
    "- Clone repositories: `git clone` 📥  \n",
    "- Get updates from the remote: `git pull` 🔄  \n",
    "- Save local work: `git commit` 💾  \n",
    "- Share changes to GitHub: `git push` 📤  \n",
    "\n",
    "I also learned how to **pull updates in a collaborative repository**, which helped me understand teamwork in coding better. 🤝"
   ]
  },
  {
   "cell_type": "markdown",
   "metadata": {},
   "source": [
    "## 📅 Progress: Weeks 1-4\n",
    "\n",
    "### 👩‍💻 About Me Page\n",
    "- Created an **About Me** page in the `about.md` file.  \n",
    "\n",
    "### 🗂️ Cloning Repositories\n",
    "- Cloned the **pages** repository from Open Coding.  \n",
    "- Set up a **personal repository**.  \n",
    "- Cloned the **team repository** using `git clone`.\n",
    "\n",
    "### 🔄 Copying Files Between Repositories\n",
    "- Learned how to transfer files between repositories.  \n",
    "- Example: Moved `2025-09-03-background-lesson.ipy` from the **pages** repo to the **personal** repo.\n",
    "\n",
    "### 📒 Jupyter Notebooks & Jokes\n",
    "- Opened and ran Jupyter Notebooks in **VS Code**.  \n",
    "- Practiced with the `Jokes.ipynb` notebook and converted results to **HTML format**.\n",
    "\n",
    "### 🌴 Changing Background\n",
    "- Edited the `background.md` file to update the website background to a beach setting.  \n",
    "- Modified the **front matter** to change the background image to a bird on the site.\n",
    "\n",
    "### 💻 JavaScript Fun\n",
    "- Learned about **JavaScript** and how to code a **Rock, Paper, Scissors game** 🎮 that you play directly in the console.  \n",
    "- This was a fun way to practice coding logic and interactivity!\n",
    "\n",
    "### 🗣️ Communication Skills\n",
    "- Improved my ability to **communicate better** in team projects and code collaboration.  \n",
    "- Learned the importance of clear messages when pulling, pushing, and reviewing code. 💬"
   ]
  },
  {
   "cell_type": "markdown",
   "metadata": {},
   "source": [
    "## 🐍 LxD Venv Section on Our Team Blog\n",
    "\n",
    "I ran into several issues working with **Python virtual environments (venv)** while setting up projects. To help the team, I created a dedicated **venv section on our team blog** documenting the problems I encountered and general guidance on how to address them. 📝💻\n",
    "\n",
    "#### 🔹 Example\n",
    "A common issue was not being able to activate the venv. I included a simple example on the blog:\n",
    "\n",
    "\n",
    "#### Activate venv on macOS/Linux\n",
    "source venv/bin/activate\n",
    "\n",
    "#### Activate venv on Windows (PowerShell)\n",
    ".\\venv\\Scripts\\Activate.ps1\n",
    "\n",
    "#### 📝 Reflection\n",
    "\n",
    "- Creating this section helped me organize my thoughts and solutions in a clear, shareable format. ✨\n",
    "\n",
    "- It made me more aware of common pitfalls with venvs and how to troubleshoot them. ⚠️\n",
    "\n",
    "- Sharing it on the team blog ensures everyone can quickly reference it and avoid repeated mistakes. 🤝\n",
    "\n",
    "- Overall, this reinforced the value of documentation and collaborative problem-solving. 🚀"
   ]
  },
  {
   "cell_type": "markdown",
   "metadata": {
    "vscode": {
     "languageId": "raw"
    }
   },
   "source": [
    "# Hacks\n",
    "\n",
    "## 🎮 Rock Paper Scissors: My Takeaways\n",
    "\n",
    "#### ✅ Key Learnings\n",
    "\n",
    "##### 🛠️ Browser DevTools\n",
    "- How to open **DevTools** (F12 / Right-click → Inspect)  \n",
    "- Switching between **Elements** and **Console** tabs  \n",
    "- Using the **Console** to *test* & *debug JavaScript*\n",
    "\n",
    "### 💻 Console Basics\n",
    "- Running simple commands like:\n",
    "\n",
    "<pre style=\"background-color: #2d2d2d; color: #f8f8f2; padding: 10px; border-radius: 5px; overflow-x: auto;\">\n",
    "<code>\n",
    "console.log(\"Hello\")\n",
    "document.body.style.background = \"#222\"\n",
    "</code>\n",
    "</pre>\n",
    "\n",
    "- Reading **outputs** & fixing **errors**\n",
    "\n",
    "#### ✊🖐️✌️ Game Interaction\n",
    "- Running game commands:  \n",
    "  - `playRPS(\"rock\")`  \n",
    "  - `playRPS(\"paper\")`  \n",
    "  - `playRPS(\"scissors\")`  \n",
    "- Seeing how different **inputs** change **results**\n",
    "\n",
    "#### ⚡ Programming Concepts\n",
    "- **Functions & Arguments** → different inputs = different outcomes  \n",
    "- **Conditionals** → decide *win/lose/tie*\n",
    "\n",
    "#### 🚀 My Contribution: Scoreboard with Save Feature\n",
    "**What I built:**  \n",
    "A floating **Scoreboard HUD** 🏆 that shows *Player vs. Computer* scores.\n",
    "\n",
    "#### ✨ Enhancements\n",
    "- 📊 **Scores** displayed at the top of the page (*sticky HUD*)  \n",
    "- 💾 **Scores** saved in **localStorage** (stay after refresh)  \n",
    "- 🔄 **Reset button** to start fresh\n",
    "\n",
    "#### 🌟 Impact\n",
    "- Makes the game more **fun**, **engaging**, and **rewarding** by tracking **progress**!\n",
    "\n",
    "## Connect 4: My Takeaways\n",
    "\n",
    "#### 🎹 Add Keyboard Controls and Drop Sound\n",
    "\n",
    "#### 📝 Description\n",
    "- Added **keyboard controls** allowing players to move a “ghost” coin left/right with arrow keys and drop a piece with **Enter**.\n",
    "- Implemented a short **drop sound effect** using the Web Audio API that plays after each valid piece drop.\n",
    "\n",
    "#### 💭 Reflection\n",
    "- Keyboard controls improve **accessibility** and allow gameplay without a mouse, broadening the player base.\n",
    "- The drop sound adds **tactile feedback**, making each move feel more satisfying and interactive.\n",
    "\n",
    "#### 📚 Lessons Learned\n",
    "- Supporting multiple input methods (mouse and keyboard) enhances **usability**.\n",
    "- The **Web Audio API** is a lightweight and effective way to add sound effects without managing external files.\n",
    "- Visual feedback like a **ghost coin** for keyboard navigation clearly connects user input with game actions.\n"
   ]
  },
  {
   "cell_type": "markdown",
   "metadata": {},
   "source": [
    "## 📝 Reflection\n",
    "\n",
    "Over the past few weeks, I’ve learned a lot about **coding, collaboration, and interactivity**.  \n",
    "\n",
    "- Using **terminal commands** and **Git/GitHub** improved my workflow and teamwork skills.  \n",
    "- Practicing **JavaScript** and creating games like **Rock Paper Scissors** and **Connect 4** helped me understand **functions, conditionals, and event handling**.  \n",
    "- Adding **keyboard controls**, **visual feedback**, and **sound effects** enhanced my understanding of **user experience and accessibility**.  \n",
    "- Working with **DevTools, Jupyter Notebooks, and VS Code** strengthened my debugging and project management skills.  \n",
    "\n",
    "Overall, combining **technical skills** with **interactive projects** has made coding more engaging and taught me the importance of making software **accessible, fun, and user-friendly**. 🌟\n"
   ]
  }
 ],
 "metadata": {
  "language_info": {
   "name": "python"
  }
 },
 "nbformat": 4,
 "nbformat_minor": 2
}
